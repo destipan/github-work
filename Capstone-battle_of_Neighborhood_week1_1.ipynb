{
 "cells": [
  {
   "cell_type": "markdown",
   "metadata": {},
   "source": [
    "# CAPSTONE - Battle of Neighborhood"
   ]
  },
  {
   "cell_type": "markdown",
   "metadata": {},
   "source": [
    "## - Help Jamie to find an apartment"
   ]
  },
  {
   "cell_type": "markdown",
   "metadata": {},
   "source": [
    "### Question "
   ]
  },
  {
   "cell_type": "markdown",
   "metadata": {},
   "source": [
    "The Final project is going to explore the most suitable apartment based on the background of “Jamie”. Jamie just graduated from college and was ready to go to work in New York city. This is the first time that Jamie goes to New York, there is no friend who can help him. Therefore, Jamie want to use data science tool to analyze where he should rent. Some basic information can be followed: \n",
    "\n",
    "1. Jamie doesn’t have a plan to buy a car within 2 years, so the place should be convenient on transportation. \n",
    "2. Jamie’s company is in Manhattan area. \n",
    "3. Jamie’s income is average level, and it is better the control the rental within certain price. \n",
    "\n",
    "The information should be based on different elements, like transportation, apartment price, metro, etc. \n"
   ]
  },
  {
   "cell_type": "code",
   "execution_count": null,
   "metadata": {},
   "outputs": [],
   "source": []
  }
 ],
 "metadata": {
  "kernelspec": {
   "display_name": "Python 3",
   "language": "python",
   "name": "python3"
  },
  "language_info": {
   "codemirror_mode": {
    "name": "ipython",
    "version": 3
   },
   "file_extension": ".py",
   "mimetype": "text/x-python",
   "name": "python",
   "nbconvert_exporter": "python",
   "pygments_lexer": "ipython3",
   "version": "3.7.6"
  }
 },
 "nbformat": 4,
 "nbformat_minor": 4
}

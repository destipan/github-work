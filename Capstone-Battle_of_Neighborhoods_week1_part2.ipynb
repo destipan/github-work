{
 "cells": [
  {
   "cell_type": "markdown",
   "metadata": {},
   "source": [
    "# CAPSTONE - Battle of Neighborhood"
   ]
  },
  {
   "cell_type": "markdown",
   "metadata": {},
   "source": [
    "## - Help Jamie to find an apartment"
   ]
  },
  {
   "cell_type": "markdown",
   "metadata": {},
   "source": [
    "### Question "
   ]
  },
  {
   "cell_type": "markdown",
   "metadata": {},
   "source": [
    "The Final project is going to explore the most suitable apartment based on the background of “Jamie”. Jamie just graduated from college and was ready to go to work in New York city. This is the first time that Jamie goes to New York, there is no friend who can help him. Therefore, Jamie want to use data science tool to analyze where he should rent. Some basic information can be followed: \n",
    "\n",
    "1. Jamie doesn’t have a plan to buy a car within 2 years, so the place should be convenient on transportation. \n",
    "2. Jamie’s company is in Manhattan area. \n",
    "3. Jamie’s income is average level, and it is better the control the rental within certain price. \n",
    "\n",
    "The information should be based on different elements, like transportation, apartment price, metro, etc. \n",
    "\n",
    "The project is for people who just move to New York city without any information about apartment or neighborhoods. People can find apartment informations with different levels and different stypes. Besides, there is also neighborhood information people can track and get more familiar about New york city. \n"
   ]
  },
  {
   "cell_type": "markdown",
   "metadata": {},
   "source": [
    "### Data"
   ]
  },
  {
   "cell_type": "markdown",
   "metadata": {},
   "source": [
    "1. We should gather the Manhattan apartment information from website, the data can be found in rentmanhattan.com. There is a list that show every apartment name with their rental price, also we can track the address in this website. \n",
    "http://www.rentmanhattan.com/index.cfm?page=search&state=results\n",
    "\n",
    "2. We should use metro station information to identify convenience of transportation, the data can be found in wikipedia. there are subway statation including station name, line name and location. \n",
    "https://en.wikipedia.org/wiki/List_of_New_York_City_Subway_stations_in_Manhattan\n",
    "\n",
    "3. We should use neighborhoods and boroughs, latitudes and longitudes to identify the convenience of neighborhoods, the dat can be found in new york dataset. There are specific information about new york neighbors, like restaurant, musium, post office, etc. We can use this dataset to identify the surrounding neighbors. \n",
    "https://cocl.us/new_york_dataset\n",
    "\n",
    "and all data will be obtained via FourSquare API \n"
   ]
  },
  {
   "cell_type": "code",
   "execution_count": null,
   "metadata": {},
   "outputs": [],
   "source": []
  }
 ],
 "metadata": {
  "kernelspec": {
   "display_name": "Python 3",
   "language": "python",
   "name": "python3"
  },
  "language_info": {
   "codemirror_mode": {
    "name": "ipython",
    "version": 3
   },
   "file_extension": ".py",
   "mimetype": "text/x-python",
   "name": "python",
   "nbconvert_exporter": "python",
   "pygments_lexer": "ipython3",
   "version": "3.7.6"
  }
 },
 "nbformat": 4,
 "nbformat_minor": 4
}
